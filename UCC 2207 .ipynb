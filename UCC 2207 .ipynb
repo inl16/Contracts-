{
 "cells": [
  {
   "cell_type": "code",
   "execution_count": null,
   "id": "2632a225",
   "metadata": {},
   "outputs": [],
   "source": [
    "#THIS IS UCC 2207 \n",
    "\n",
    "##print additional terms in acceptance confirmation \n",
    "\n",
    "rule_1 = input(\"contract is sent but it comes back with different terms? what types of different terms \")\n",
    "\n",
    "\n",
    "if rule_1 == yes :\n",
    "    print(\"additional or different terms  \")\n",
    "    "
   ]
  }
 ],
 "metadata": {
  "kernelspec": {
   "display_name": "Python 3 (ipykernel)",
   "language": "python",
   "name": "python3"
  },
  "language_info": {
   "codemirror_mode": {
    "name": "ipython",
    "version": 3
   },
   "file_extension": ".py",
   "mimetype": "text/x-python",
   "name": "python",
   "nbconvert_exporter": "python",
   "pygments_lexer": "ipython3",
   "version": "3.9.7"
  }
 },
 "nbformat": 4,
 "nbformat_minor": 5
}
